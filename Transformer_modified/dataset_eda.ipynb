{
 "cells": [
  {
   "cell_type": "code",
   "execution_count": 40,
   "metadata": {},
   "outputs": [],
   "source": [
    "import os\n",
    "import pickle\n",
    "\n",
    "import matplotlib.pyplot as plt\n",
    "import networkx as nx\n",
    "import numpy as np\n",
    "import pandas as pd"
   ]
  },
  {
   "cell_type": "code",
   "execution_count": 41,
   "metadata": {},
   "outputs": [
    {
     "data": {
      "text/plain": [
       "'/UbuntuHDD/Social-Rec-Sys/Transformer_modified'"
      ]
     },
     "execution_count": 41,
     "metadata": {},
     "output_type": "execute_result"
    }
   ],
   "source": [
    "os.getcwd()"
   ]
  },
  {
   "cell_type": "code",
   "execution_count": 42,
   "metadata": {},
   "outputs": [
    {
     "data": {
      "text/plain": [
       "['epinions', 'ciao', 'toy']"
      ]
     },
     "execution_count": 42,
     "metadata": {},
     "output_type": "execute_result"
    }
   ],
   "source": [
    "os.listdir(os.getcwd() + '/dataset/')"
   ]
  },
  {
   "attachments": {},
   "cell_type": "markdown",
   "metadata": {},
   "source": [
    "## Raw data (Ciao)"
   ]
  },
  {
   "attachments": {},
   "cell_type": "markdown",
   "metadata": {},
   "source": [
    "- `data_utils.py` 를 통해 생성된 (id-filtering 및 re-arranging을 거친) .csv 파일을 사용."
   ]
  },
  {
   "cell_type": "code",
   "execution_count": 43,
   "metadata": {},
   "outputs": [],
   "source": [
    "data_path = os.getcwd() + '/dataset/' + 'ciao'\n",
    "\n",
    "rating_file = data_path + '/rating.csv'\n",
    "trust_file = data_path + '/trustnetwork.csv'\n",
    "\n",
    "rating_df = pd.read_csv(rating_file, index_col=[])\n",
    "trust_df = pd.read_csv(trust_file, index_col=[])"
   ]
  },
  {
   "cell_type": "code",
   "execution_count": 44,
   "metadata": {},
   "outputs": [
    {
     "data": {
      "text/html": [
       "<div>\n",
       "<style scoped>\n",
       "    .dataframe tbody tr th:only-of-type {\n",
       "        vertical-align: middle;\n",
       "    }\n",
       "\n",
       "    .dataframe tbody tr th {\n",
       "        vertical-align: top;\n",
       "    }\n",
       "\n",
       "    .dataframe thead th {\n",
       "        text-align: right;\n",
       "    }\n",
       "</style>\n",
       "<table border=\"1\" class=\"dataframe\">\n",
       "  <thead>\n",
       "    <tr style=\"text-align: right;\">\n",
       "      <th></th>\n",
       "      <th>user_id</th>\n",
       "      <th>product_id</th>\n",
       "      <th>rating</th>\n",
       "    </tr>\n",
       "  </thead>\n",
       "  <tbody>\n",
       "    <tr>\n",
       "      <th>0</th>\n",
       "      <td>1</td>\n",
       "      <td>1</td>\n",
       "      <td>3</td>\n",
       "    </tr>\n",
       "    <tr>\n",
       "      <th>1</th>\n",
       "      <td>1</td>\n",
       "      <td>2</td>\n",
       "      <td>4</td>\n",
       "    </tr>\n",
       "    <tr>\n",
       "      <th>2</th>\n",
       "      <td>1</td>\n",
       "      <td>3</td>\n",
       "      <td>4</td>\n",
       "    </tr>\n",
       "    <tr>\n",
       "      <th>3</th>\n",
       "      <td>1</td>\n",
       "      <td>4</td>\n",
       "      <td>5</td>\n",
       "    </tr>\n",
       "    <tr>\n",
       "      <th>4</th>\n",
       "      <td>1</td>\n",
       "      <td>5</td>\n",
       "      <td>4</td>\n",
       "    </tr>\n",
       "    <tr>\n",
       "      <th>...</th>\n",
       "      <td>...</td>\n",
       "      <td>...</td>\n",
       "      <td>...</td>\n",
       "    </tr>\n",
       "    <tr>\n",
       "      <th>283315</th>\n",
       "      <td>7317</td>\n",
       "      <td>73109</td>\n",
       "      <td>1</td>\n",
       "    </tr>\n",
       "    <tr>\n",
       "      <th>283316</th>\n",
       "      <td>7317</td>\n",
       "      <td>25251</td>\n",
       "      <td>3</td>\n",
       "    </tr>\n",
       "    <tr>\n",
       "      <th>283317</th>\n",
       "      <td>7317</td>\n",
       "      <td>72478</td>\n",
       "      <td>4</td>\n",
       "    </tr>\n",
       "    <tr>\n",
       "      <th>283318</th>\n",
       "      <td>7317</td>\n",
       "      <td>74659</td>\n",
       "      <td>5</td>\n",
       "    </tr>\n",
       "    <tr>\n",
       "      <th>283319</th>\n",
       "      <td>7317</td>\n",
       "      <td>100096</td>\n",
       "      <td>1</td>\n",
       "    </tr>\n",
       "  </tbody>\n",
       "</table>\n",
       "<p>283320 rows × 3 columns</p>\n",
       "</div>"
      ],
      "text/plain": [
       "        user_id  product_id  rating\n",
       "0             1           1       3\n",
       "1             1           2       4\n",
       "2             1           3       4\n",
       "3             1           4       5\n",
       "4             1           5       4\n",
       "...         ...         ...     ...\n",
       "283315     7317       73109       1\n",
       "283316     7317       25251       3\n",
       "283317     7317       72478       4\n",
       "283318     7317       74659       5\n",
       "283319     7317      100096       1\n",
       "\n",
       "[283320 rows x 3 columns]"
      ]
     },
     "execution_count": 44,
     "metadata": {},
     "output_type": "execute_result"
    }
   ],
   "source": [
    "rating_df"
   ]
  },
  {
   "attachments": {},
   "cell_type": "markdown",
   "metadata": {},
   "source": [
    "### rating 받은 수 분포"
   ]
  },
  {
   "cell_type": "code",
   "execution_count": 45,
   "metadata": {},
   "outputs": [
    {
     "data": {
      "text/plain": [
       "rating\n",
       "5    138514\n",
       "4     88261\n",
       "3     31210\n",
       "2     14282\n",
       "1     11019\n",
       "0        34\n",
       "Name: count, dtype: int64"
      ]
     },
     "execution_count": 45,
     "metadata": {},
     "output_type": "execute_result"
    }
   ],
   "source": [
    "rating_df['rating'].value_counts()"
   ]
  },
  {
   "cell_type": "code",
   "execution_count": 46,
   "metadata": {},
   "outputs": [
    {
     "data": {
      "image/png": "[encoded data removed]",
      "text/plain": [
       "<Figure size 640x480 with 1 Axes>"
      ]
     },
     "metadata": {},
     "output_type": "display_data"
    }
   ],
   "source": [
    "ax = rating_df['rating'].value_counts().plot(kind='bar', logy=True, color='orange')\n",
    "\n",
    "for i, v in enumerate(rating_df['rating'].value_counts()):\n",
    "    ax.text(i, v, str(v), ha='center', va='bottom')"
   ]
  },
  {
   "cell_type": "code",
   "execution_count": 47,
   "metadata": {},
   "outputs": [
    {
     "data": {
      "text/html": [
       "<div>\n",
       "<style scoped>\n",
       "    .dataframe tbody tr th:only-of-type {\n",
       "        vertical-align: middle;\n",
       "    }\n",
       "\n",
       "    .dataframe tbody tr th {\n",
       "        vertical-align: top;\n",
       "    }\n",
       "\n",
       "    .dataframe thead th {\n",
       "        text-align: right;\n",
       "    }\n",
       "</style>\n",
       "<table border=\"1\" class=\"dataframe\">\n",
       "  <thead>\n",
       "    <tr style=\"text-align: right;\">\n",
       "      <th></th>\n",
       "      <th>user_id_1</th>\n",
       "      <th>user_id_2</th>\n",
       "    </tr>\n",
       "  </thead>\n",
       "  <tbody>\n",
       "    <tr>\n",
       "      <th>0</th>\n",
       "      <td>1</td>\n",
       "      <td>2</td>\n",
       "    </tr>\n",
       "    <tr>\n",
       "      <th>1</th>\n",
       "      <td>1</td>\n",
       "      <td>3</td>\n",
       "    </tr>\n",
       "    <tr>\n",
       "      <th>2</th>\n",
       "      <td>1</td>\n",
       "      <td>4</td>\n",
       "    </tr>\n",
       "    <tr>\n",
       "      <th>3</th>\n",
       "      <td>1</td>\n",
       "      <td>5</td>\n",
       "    </tr>\n",
       "    <tr>\n",
       "      <th>4</th>\n",
       "      <td>1</td>\n",
       "      <td>6</td>\n",
       "    </tr>\n",
       "    <tr>\n",
       "      <th>...</th>\n",
       "      <td>...</td>\n",
       "      <td>...</td>\n",
       "    </tr>\n",
       "    <tr>\n",
       "      <th>111776</th>\n",
       "      <td>7315</td>\n",
       "      <td>7316</td>\n",
       "    </tr>\n",
       "    <tr>\n",
       "      <th>111777</th>\n",
       "      <td>7315</td>\n",
       "      <td>7314</td>\n",
       "    </tr>\n",
       "    <tr>\n",
       "      <th>111778</th>\n",
       "      <td>7316</td>\n",
       "      <td>7315</td>\n",
       "    </tr>\n",
       "    <tr>\n",
       "      <th>111779</th>\n",
       "      <td>7316</td>\n",
       "      <td>7314</td>\n",
       "    </tr>\n",
       "    <tr>\n",
       "      <th>111780</th>\n",
       "      <td>7317</td>\n",
       "      <td>5279</td>\n",
       "    </tr>\n",
       "  </tbody>\n",
       "</table>\n",
       "<p>111781 rows × 2 columns</p>\n",
       "</div>"
      ],
      "text/plain": [
       "        user_id_1  user_id_2\n",
       "0               1          2\n",
       "1               1          3\n",
       "2               1          4\n",
       "3               1          5\n",
       "4               1          6\n",
       "...           ...        ...\n",
       "111776       7315       7316\n",
       "111777       7315       7314\n",
       "111778       7316       7315\n",
       "111779       7316       7314\n",
       "111780       7317       5279\n",
       "\n",
       "[111781 rows x 2 columns]"
      ]
     },
     "execution_count": 47,
     "metadata": {},
     "output_type": "execute_result"
    }
   ],
   "source": [
    "trust_df"
   ]
  },
  {
   "attachments": {},
   "cell_type": "markdown",
   "metadata": {},
   "source": [
    "### rating matrix에서 사용자가 상호작용한 아이템 수 정보"
   ]
  },
  {
   "cell_type": "code",
   "execution_count": 48,
   "metadata": {},
   "outputs": [
    {
     "data": {
      "text/plain": [
       "count    7317.000000\n",
       "mean       38.720787\n",
       "std        73.220846\n",
       "min         4.000000\n",
       "25%        10.000000\n",
       "50%        18.000000\n",
       "75%        38.000000\n",
       "max      1551.000000\n",
       "Name: num_items, dtype: float64"
      ]
     },
     "execution_count": 48,
     "metadata": {},
     "output_type": "execute_result"
    }
   ],
   "source": [
    "user_item_dataframe = rating_df.groupby('user_id').agg({'product_id': list, 'rating': list}).reset_index()\n",
    "user_item_dataframe['num_items'] = user_item_dataframe['product_id'].apply(lambda x: len(x))\n",
    "user_item_dataframe['num_items'].describe()"
   ]
  },
  {
   "attachments": {},
   "cell_type": "markdown",
   "metadata": {},
   "source": [
    "- 사용자 마다 상호작용한 아이템의 수는 **평균 38개**, **최대 1551개**\n",
    "  - 현재 Q75는 38. 이는 즉 **아이템과 상호작용을 극단적으로 많이 한 사용자가 존재**한다는 것."
   ]
  },
  {
   "cell_type": "code",
   "execution_count": 49,
   "metadata": {},
   "outputs": [
    {
     "data": {
      "text/plain": [
       "<Axes: title={'center': \"Number of user's interacted items\"}, xlabel='user_id'>"
      ]
     },
     "execution_count": 49,
     "metadata": {},
     "output_type": "execute_result"
    },
    {
     "data": {
      "image/png": "[encoded data removed]",
      "text/plain": [
       "<Figure size 1200x400 with 1 Axes>"
      ]
     },
     "metadata": {},
     "output_type": "display_data"
    }
   ],
   "source": [
    "user_item_dataframe.plot(kind='line', x='user_id', y='num_items', figsize=(12, 4), title=\"Number of user's interacted items\")"
   ]
  },
  {
   "attachments": {},
   "cell_type": "markdown",
   "metadata": {},
   "source": [
    "### rating matrix에서 아이템이 상호작용한 사용자 수 정보"
   ]
  },
  {
   "cell_type": "code",
   "execution_count": 50,
   "metadata": {},
   "outputs": [
    {
     "data": {
      "text/plain": [
       "(count    104975.000000\n",
       " mean          2.698928\n",
       " std           9.023276\n",
       " min           1.000000\n",
       " 25%           1.000000\n",
       " 50%           1.000000\n",
       " 75%           2.000000\n",
       " max         969.000000\n",
       " Name: num_users, dtype: float64,\n",
       "         product_id       user_id     rating  num_users\n",
       " 0                1           [1]        [3]          1\n",
       " 1                2           [1]        [4]          1\n",
       " 2                3           [1]        [4]          1\n",
       " 3                4  [1, 83, 244]  [5, 3, 3]          3\n",
       " 4                5           [1]        [4]          1\n",
       " ...            ...           ...        ...        ...\n",
       " 104970      104971        [7314]        [5]          1\n",
       " 104971      104972        [7312]        [5]          1\n",
       " 104972      104973        [7312]        [5]          1\n",
       " 104973      104974        [7316]        [5]          1\n",
       " 104974      104975        [7317]        [1]          1\n",
       " \n",
       " [104975 rows x 4 columns])"
      ]
     },
     "execution_count": 50,
     "metadata": {},
     "output_type": "execute_result"
    }
   ],
   "source": [
    "item_user_dataframe = rating_df.groupby('product_id').agg({'user_id': list, 'rating': list}).reset_index()\n",
    "item_user_dataframe['num_users'] = item_user_dataframe['user_id'].apply(lambda x: len(x))\n",
    "item_user_dataframe['num_users'].describe(), item_user_dataframe"
   ]
  },
  {
   "cell_type": "code",
   "execution_count": 51,
   "metadata": {},
   "outputs": [
    {
     "data": {
      "text/plain": [
       "count    104975.000000\n",
       "mean          2.685382\n",
       "std           8.900015\n",
       "min           1.000000\n",
       "25%           1.000000\n",
       "50%           1.000000\n",
       "75%           2.000000\n",
       "max         912.000000\n",
       "Name: degree, dtype: float64"
      ]
     },
     "execution_count": 51,
     "metadata": {},
     "output_type": "execute_result"
    }
   ],
   "source": [
    "df = rating_df.groupby('product_id')['user_id'].nunique().reset_index()\n",
    "df.columns = ['product_id', 'degree']\n",
    "df['degree'].describe()"
   ]
  },
  {
   "attachments": {},
   "cell_type": "markdown",
   "metadata": {},
   "source": [
    "- *왜 차이가 발생하는가?*\n",
    "    - `rating_df.groupby('product_id').agg({'user_id': list, 'rating': list}).reset_index()`*는 한 사용자가 한 아이템에 여러번 평점 매겼다면 여러번을 모두 셈.*\n",
    "    - `rating_df.groupby('product_id')['user_id'].nunique().reset_index()`*는 한 사용자가 한 아이템에 여러번 평점 매겼다면 한번만을 셈.*\n",
    "- 후자의 방법이 현재 degree를 세고 있음."
   ]
  },
  {
   "attachments": {},
   "cell_type": "markdown",
   "metadata": {},
   "source": [
    "- 아이템마다 상호작용한 사용자 수는 평균 2.6명, 최대 969명\n",
    "  - 현재 Q75는 2. 마찬가지로 **사용자에게 상호작용을 극단적으로 많이 받은 아이템**이 존재한다는 것."
   ]
  },
  {
   "cell_type": "code",
   "execution_count": 52,
   "metadata": {},
   "outputs": [
    {
     "data": {
      "text/plain": [
       "<Axes: title={'center': \"Number of user's interacted items\"}, xlabel='product_id'>"
      ]
     },
     "execution_count": 52,
     "metadata": {},
     "output_type": "execute_result"
    },
    {
     "data": {
      "image/png": "[encoded data removed]",
      "text/plain": [
       "<Figure size 1200x400 with 1 Axes>"
      ]
     },
     "metadata": {},
     "output_type": "display_data"
    }
   ],
   "source": [
    "item_user_dataframe.plot(kind='line', x='product_id', y='num_users', figsize=(12, 4), title=\"Number of user's interacted items\")"
   ]
  },
  {
   "attachments": {},
   "cell_type": "markdown",
   "metadata": {},
   "source": [
    "### rating matrix sparsity check"
   ]
  },
  {
   "cell_type": "code",
   "execution_count": 54,
   "metadata": {},
   "outputs": [
    {
     "data": {
      "text/plain": [
       "array([[3., 4., 4., ..., 0., 0., 0.],\n",
       "       [0., 0., 0., ..., 0., 0., 0.],\n",
       "       [0., 0., 0., ..., 0., 0., 0.],\n",
       "       ...,\n",
       "       [0., 0., 0., ..., 0., 0., 0.],\n",
       "       [0., 0., 0., ..., 0., 5., 0.],\n",
       "       [0., 0., 0., ..., 0., 0., 1.]])"
      ]
     },
     "execution_count": 54,
     "metadata": {},
     "output_type": "execute_result"
    }
   ],
   "source": [
    "user_item_matrix = rating_df.pivot_table(\n",
    "    values='rating',\n",
    "    index='user_id',\n",
    "    columns='product_id'\n",
    ").fillna(0).to_numpy()\n",
    "user_item_matrix"
   ]
  },
  {
   "cell_type": "code",
   "execution_count": 55,
   "metadata": {},
   "outputs": [
    {
     "data": {
      "text/plain": [
       "(7317, 104975)"
      ]
     },
     "execution_count": 55,
     "metadata": {},
     "output_type": "execute_result"
    }
   ],
   "source": [
    "user_item_matrix.shape"
   ]
  },
  {
   "cell_type": "code",
   "execution_count": 56,
   "metadata": {},
   "outputs": [
    {
     "name": "stdout",
     "output_type": "stream",
     "text": [
      "Sparsity of rating matrix: 99.9633%\n"
     ]
    }
   ],
   "source": [
    "sparsity = 1.0 - (np.count_nonzero(user_item_matrix) / float(user_item_matrix.size))\n",
    "print(f\"Sparsity of rating matrix: {sparsity * 100:.4f}%\")"
   ]
  },
  {
   "attachments": {},
   "cell_type": "markdown",
   "metadata": {},
   "source": [
    "### social graph 사용자 정보 및 sparsity check"
   ]
  },
  {
   "cell_type": "code",
   "execution_count": 26,
   "metadata": {},
   "outputs": [
    {
     "data": {
      "text/plain": [
       "(7317, 7317)"
      ]
     },
     "execution_count": 26,
     "metadata": {},
     "output_type": "execute_result"
    }
   ],
   "source": [
    "max(trust_df['user_id_1']), max(trust_df['user_id_2'])"
   ]
  },
  {
   "cell_type": "code",
   "execution_count": 71,
   "metadata": {},
   "outputs": [
    {
     "data": {
      "text/plain": [
       "111781"
      ]
     },
     "execution_count": 71,
     "metadata": {},
     "output_type": "execute_result"
    }
   ],
   "source": [
    "len(trust_df)"
   ]
  },
  {
   "cell_type": "code",
   "execution_count": 60,
   "metadata": {},
   "outputs": [
    {
     "data": {
      "text/plain": [
       "count    7317.000000\n",
       "mean       23.289600\n",
       "std        44.644794\n",
       "min         1.000000\n",
       "25%         3.000000\n",
       "50%         8.000000\n",
       "75%        24.000000\n",
       "max       804.000000\n",
       "Name: degree, dtype: float64"
      ]
     },
     "execution_count": 60,
     "metadata": {},
     "output_type": "execute_result"
    }
   ],
   "source": [
    "social_deg = pd.read_csv(data_path + '/degree_table_social.csv', index_col=[])\n",
    "social_deg['degree'].describe()"
   ]
  },
  {
   "cell_type": "code",
   "execution_count": 67,
   "metadata": {},
   "outputs": [
    {
     "data": {
      "text/plain": [
       "(array([[0., 1., 1., ..., 0., 0., 0.],\n",
       "        [1., 0., 1., ..., 0., 0., 0.],\n",
       "        [1., 1., 0., ..., 0., 0., 0.],\n",
       "        ...,\n",
       "        [0., 0., 0., ..., 0., 1., 0.],\n",
       "        [0., 0., 0., ..., 1., 0., 0.],\n",
       "        [0., 0., 0., ..., 0., 0., 0.]]),\n",
       " (7317, 7317))"
      ]
     },
     "execution_count": 67,
     "metadata": {},
     "output_type": "execute_result"
    }
   ],
   "source": [
    "user_user_matrix = nx.from_pandas_edgelist(trust_df, source='user_id_1', target='user_id_2').to_undirected()\n",
    "user_user_matrix = nx.to_numpy_array(user_user_matrix)\n",
    "user_user_matrix, user_user_matrix.shape"
   ]
  },
  {
   "cell_type": "code",
   "execution_count": 68,
   "metadata": {},
   "outputs": [
    {
     "name": "stdout",
     "output_type": "stream",
     "text": [
      "Sparsity of social graph: 99.6817%\n"
     ]
    }
   ],
   "source": [
    "sparsity = 1.0 - (np.count_nonzero(user_user_matrix) / float(user_user_matrix.size))\n",
    "print(f\"Sparsity of social graph: {sparsity * 100:.4f}%\")"
   ]
  },
  {
   "cell_type": "code",
   "execution_count": 70,
   "metadata": {},
   "outputs": [
    {
     "data": {
      "text/plain": [
       "0.00318294376966821"
      ]
     },
     "execution_count": 70,
     "metadata": {},
     "output_type": "execute_result"
    }
   ],
   "source": [
    "np.count_nonzero(user_user_matrix) / float(user_user_matrix.size)"
   ]
  },
  {
   "attachments": {},
   "cell_type": "markdown",
   "metadata": {},
   "source": [
    "### social graph에서의 SPD table 정보\n",
    "\n",
    "- 이 과정은 `_test16_spd_statistics.py` 에서 진행된 내역임."
   ]
  },
  {
   "cell_type": "code",
   "execution_count": 73,
   "metadata": {},
   "outputs": [
    {
     "data": {
      "text/plain": [
       "array([[0, 1, 1, ..., 6, 6, 4],\n",
       "       [1, 0, 1, ..., 6, 6, 4],\n",
       "       [1, 1, 0, ..., 6, 6, 5],\n",
       "       ...,\n",
       "       [6, 6, 6, ..., 0, 1, 2],\n",
       "       [6, 6, 6, ..., 1, 0, 2],\n",
       "       [4, 4, 5, ..., 2, 2, 0]])"
      ]
     },
     "execution_count": 73,
     "metadata": {},
     "output_type": "execute_result"
    }
   ],
   "source": [
    "# (num_user, num_user) 크기의 SPD table. 모든 user 쌍 간의 최단거리를 계산한 테이블임.\n",
    "spd_table = np.load(data_path + '/shortest_path_result.npy')\n",
    "spd_table"
   ]
  },
  {
   "cell_type": "code",
   "execution_count": 74,
   "metadata": {},
   "outputs": [
    {
     "data": {
      "text/plain": [
       "array([[20000,     1,     1, ...,     6,     6,     4],\n",
       "       [    0, 20000,     1, ...,     6,     6,     4],\n",
       "       [    0,     0, 20000, ...,     6,     6,     5],\n",
       "       ...,\n",
       "       [    0,     0,     0, ..., 20000,     1,     2],\n",
       "       [    0,     0,     0, ...,     0, 20000,     2],\n",
       "       [    0,     0,     0, ...,     0,     0, 20000]])"
      ]
     },
     "execution_count": 74,
     "metadata": {},
     "output_type": "execute_result"
    }
   ],
   "source": [
    "# count를 위해 대각성분을 특정 값으로 대체하고, 상삼각행렬만을 사용.\n",
    "upper_triangle_table = np.triu(spd_table)\n",
    "np.fill_diagonal(upper_triangle_table, 20000)\n",
    "upper_triangle_table"
   ]
  },
  {
   "cell_type": "code",
   "execution_count": 76,
   "metadata": {},
   "outputs": [
    {
     "data": {
      "text/html": [
       "<div>\n",
       "<style scoped>\n",
       "    .dataframe tbody tr th:only-of-type {\n",
       "        vertical-align: middle;\n",
       "    }\n",
       "\n",
       "    .dataframe tbody tr th {\n",
       "        vertical-align: top;\n",
       "    }\n",
       "\n",
       "    .dataframe thead th {\n",
       "        text-align: right;\n",
       "    }\n",
       "</style>\n",
       "<table border=\"1\" class=\"dataframe\">\n",
       "  <thead>\n",
       "    <tr style=\"text-align: right;\">\n",
       "      <th></th>\n",
       "      <th>SPD</th>\n",
       "      <th>count</th>\n",
       "    </tr>\n",
       "  </thead>\n",
       "  <tbody>\n",
       "    <tr>\n",
       "      <th>0</th>\n",
       "      <td>1</td>\n",
       "      <td>85205</td>\n",
       "    </tr>\n",
       "    <tr>\n",
       "      <th>1</th>\n",
       "      <td>2</td>\n",
       "      <td>3426321</td>\n",
       "    </tr>\n",
       "    <tr>\n",
       "      <th>2</th>\n",
       "      <td>3</td>\n",
       "      <td>13218976</td>\n",
       "    </tr>\n",
       "    <tr>\n",
       "      <th>3</th>\n",
       "      <td>4</td>\n",
       "      <td>8207453</td>\n",
       "    </tr>\n",
       "    <tr>\n",
       "      <th>4</th>\n",
       "      <td>5</td>\n",
       "      <td>1553433</td>\n",
       "    </tr>\n",
       "    <tr>\n",
       "      <th>5</th>\n",
       "      <td>6</td>\n",
       "      <td>167307</td>\n",
       "    </tr>\n",
       "    <tr>\n",
       "      <th>6</th>\n",
       "      <td>7</td>\n",
       "      <td>16883</td>\n",
       "    </tr>\n",
       "    <tr>\n",
       "      <th>7</th>\n",
       "      <td>8</td>\n",
       "      <td>2179</td>\n",
       "    </tr>\n",
       "    <tr>\n",
       "      <th>8</th>\n",
       "      <td>9</td>\n",
       "      <td>105</td>\n",
       "    </tr>\n",
       "    <tr>\n",
       "      <th>9</th>\n",
       "      <td>10</td>\n",
       "      <td>4</td>\n",
       "    </tr>\n",
       "    <tr>\n",
       "      <th>10</th>\n",
       "      <td>7318</td>\n",
       "      <td>87720</td>\n",
       "    </tr>\n",
       "  </tbody>\n",
       "</table>\n",
       "</div>"
      ],
      "text/plain": [
       "     SPD     count\n",
       "0      1     85205\n",
       "1      2   3426321\n",
       "2      3  13218976\n",
       "3      4   8207453\n",
       "4      5   1553433\n",
       "5      6    167307\n",
       "6      7     16883\n",
       "7      8      2179\n",
       "8      9       105\n",
       "9     10         4\n",
       "10  7318     87720"
      ]
     },
     "execution_count": 76,
     "metadata": {},
     "output_type": "execute_result"
    }
   ],
   "source": [
    "# 각 수치마다 count 진행, 마지막에 20000에 대한 카운트(대각성분 카운트)는 제외\n",
    "unique, counts = np.unique(upper_triangle_table[np.where(upper_triangle_table != 0)], return_counts=True)\n",
    "\n",
    "# 편리한 look을 위한 dataframe\n",
    "spd_info_df = pd.DataFrame(columns=['SPD', 'count'])\n",
    "spd_info_df['SPD'] = unique\n",
    "spd_info_df['count'] = counts\n",
    "\n",
    "# 마지막 20000에 대한 카운트는 제외\n",
    "spd_info_df = spd_info_df[:-1]\n",
    "spd_info_df"
   ]
  },
  {
   "attachments": {},
   "cell_type": "markdown",
   "metadata": {},
   "source": [
    "- 7318은 현재 unreachable distance로, 임의로 `max(num_nodes) + 1` 로 설정한 값임.\n",
    "- 위 값은 diagonal ~ lower triangle 부분을 count안한 것이므로 전부 더해도 기존의 `(num_user, num_user)` 크기가 나오지 않음."
   ]
  },
  {
   "cell_type": "code",
   "execution_count": 87,
   "metadata": {},
   "outputs": [
    {
     "data": {
      "image/png": "[encoded data removed]",
      "text/plain": [
       "<Figure size 1200x600 with 1 Axes>"
      ]
     },
     "metadata": {},
     "output_type": "display_data"
    }
   ],
   "source": [
    "# plt.ticklabel_format(style='plain') # axis 값 범위가 1e7과 같이 표기되는 것을 방지하기 위함. -> log scale을 적용해서 문제 X\n",
    "\n",
    "fig, ax = plt.subplots(figsize=(12, 6))\n",
    "spd_info_df.plot(kind='bar', x='SPD', y='count' ,figsize=(12, 6), logy=True, color='orange', ax=ax)\n",
    "\n",
    "for i, v in enumerate(spd_info_df['count']):\n",
    "    ax.text(i, v, str(v), ha='center', va='bottom')\n",
    "\n",
    "spd_info_df['count'].plot(kind='line', color='red', style='^-', ax=ax)\n",
    "plt.title('Ciao (social graph) SPD statistics')\n",
    "plt.show()"
   ]
  },
  {
   "attachments": {},
   "cell_type": "markdown",
   "metadata": {},
   "source": [
    "- 모든 쌍 간의 SPD 값을 count한 것으로, **노드-노드 pair 간 최단 거리가 2,3,4,5 가 많음**\n",
    "  - 즉 **대부분의 사용자는 2~5 hop 이내로 서로 연결되어 있음**을 짐작할 수 있다.\n",
    "- unreachable distance를 15정도로 설정하고, `shortest_path_result.npy` 를 다시 생성한다면 $\\rightarrow$ SPD Embedding table의 size를 15로 두고 할 수 있을 것.\n",
    "  - `max(num_user) + 1` 로 두는 것 보단 아무래도 embedding table size가 작아지니 공간을 쓸데 없이 많이 차지하진 않을 것."
   ]
  },
  {
   "attachments": {},
   "cell_type": "markdown",
   "metadata": {},
   "source": [
    "## Raw Data (Epinions)"
   ]
  }
 ],
 "metadata": {
  "kernelspec": {
   "display_name": "socialrec",
   "language": "python",
   "name": "python3"
  },
  "language_info": {
   "codemirror_mode": {
    "name": "ipython",
    "version": 3
   },
   "file_extension": ".py",
   "mimetype": "text/x-python",
   "name": "python",
   "nbconvert_exporter": "python",
   "pygments_lexer": "ipython3",
   "version": "3.9.17"
  },
  "orig_nbformat": 4
 },
 "nbformat": 4,
 "nbformat_minor": 2
}
